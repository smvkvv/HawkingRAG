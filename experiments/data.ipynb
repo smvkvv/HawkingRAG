{
 "cells": [
  {
   "cell_type": "code",
   "execution_count": 1,
   "id": "3c930d9b-0cbb-4c1a-9b3e-ece5929d8d7c",
   "metadata": {},
   "outputs": [],
   "source": [
    "import re\n",
    "import json\n",
    "\n",
    "import numpy as np\n",
    "import pandas as pd\n",
    "\n",
    "pd.set_option('display.max_rows', 500)\n",
    "pd.set_option('display.max_columns', 500)\n",
    "pd.set_option('display.width', 1000)"
   ]
  },
  {
   "cell_type": "code",
   "execution_count": 17,
   "id": "729993f4-d2db-4ac3-b12f-72a17e4988c9",
   "metadata": {},
   "outputs": [],
   "source": [
    "from pathlib import Path\n",
    "\n",
    "file_path = Path(\"../data/brief_history_of_time.txt\")\n",
    "start_word_num = 23\n",
    "\n",
    "with file_path.open() as file:\n",
    "    paragraphs = [line for line in file if line.strip()][start_word_num:]\n",
    "\n",
    "paragraphs[:10]"
   ]
  },
  {
   "cell_type": "code",
   "execution_count": null,
   "id": "15b7e1cf-6041-4dc2-9808-25f3f96d9a79",
   "metadata": {},
   "outputs": [],
   "source": []
  },
  {
   "cell_type": "code",
   "execution_count": 5,
   "id": "87f56567-1584-44ac-9c97-f5f7702fd774",
   "metadata": {},
   "outputs": [
    {
     "data": {
      "text/plain": [
       "['Благодарности',\n",
       " 'Предисловие',\n",
       " '1. Наше представление о Вселенной',\n",
       " '2. Пространство и время',\n",
       " '3. Расширяющаяся Вселенная',\n",
       " '4. Принцип неопределенности',\n",
       " '5. Элементарные частицы и силы в природе',\n",
       " '6. Черные дыры',\n",
       " '7. Черные дыры не так уж черны',\n",
       " '8. Рождение и гибель Вселенной',\n",
       " '9. Стрела времени',\n",
       " '10. Объединение физики',\n",
       " '11. Заключение',\n",
       " 'Великие физики',\n",
       " 'Словарь терминов',\n",
       " 'Послесловие']"
      ]
     },
     "execution_count": 5,
     "metadata": {},
     "output_type": "execute_result"
    }
   ],
   "source": [
    "chapter_pattern: re.Pattern = re.compile(r'^\\d+\\.[a-zA-ZА-Яа-я0-9\\s\\-]*[^?.]$')\n",
    "chapter_exceptions: list[str] = ['Благодарности', 'Предисловие', 'Великие физики', 'Словарь терминов', 'Послесловие']\n",
    "\n",
    "chapter_names = [paragraph for paragraph in paragraphs if chapter_pattern.match(paragraph) or paragraph in chapter_exceptions]\n",
    "\n",
    "chapter_names"
   ]
  },
  {
   "cell_type": "code",
   "execution_count": 63,
   "id": "1ae609e2-86c0-4794-bc91-a45ceee1a96f",
   "metadata": {},
   "outputs": [
    {
     "data": {
      "text/plain": [
       "'Благодарности\\n'"
      ]
     },
     "execution_count": 63,
     "metadata": {},
     "output_type": "execute_result"
    }
   ],
   "source": [
    "paragraphs[0]"
   ]
  },
  {
   "cell_type": "code",
   "execution_count": 74,
   "id": "c8737456-166a-4127-80ba-2ab8661acb88",
   "metadata": {},
   "outputs": [],
   "source": [
    "import requests\n",
    "\n",
    "\n",
    "def send_message(user_input: str):\n",
    "    api_url = \"http://localhost:8000/ask/\"\n",
    "\n",
    "    payload = {\"question\": user_input}\n",
    "    response = requests.post(api_url, json=payload)\n",
    "\n",
    "    return response"
   ]
  },
  {
   "cell_type": "code",
   "execution_count": 86,
   "id": "2d2e781e-6b20-4d3c-9848-51c58054d502",
   "metadata": {},
   "outputs": [],
   "source": [
    "response = send_message(\"Есть ли в мире бог?\")"
   ]
  },
  {
   "cell_type": "code",
   "execution_count": 87,
   "id": "59fcd9bb-f0a0-46dd-8b1e-b3b5b88e3703",
   "metadata": {},
   "outputs": [
    {
     "data": {
      "text/plain": [
       "200"
      ]
     },
     "execution_count": 87,
     "metadata": {},
     "output_type": "execute_result"
    }
   ],
   "source": [
    "response.status_code"
   ]
  },
  {
   "cell_type": "code",
   "execution_count": 88,
   "id": "59c19be1-61cd-4b21-945b-f5833e761f7f",
   "metadata": {},
   "outputs": [
    {
     "data": {
      "text/plain": [
       "[{'text': 'Из представления о том, что пространство и время образуют замкнутую поверхность, вытекают также очень важные следствия относительно роли Бога в жизни Вселенной. В связи с успехами, достигнутыми научными теориями в описании событий, большинство ученых пришло к убеждению, что Бог позволяет Вселенной развиваться в соответствии с определенной системой законов и не вмешивается в ее развитие, не нарушает эти законы. Но законы ничего не говорят нам о том, как выглядела Вселенная, когда она только возникла, — завести часы и выбрать начало все-таки могло быть делом Бога. Пока мы считаем, что у Вселенной было начало, мы можем думать, что у нее был Создатель. Если же Вселенная действительно полностью замкнута и не имеет ни границ, ни краев, то тогда у нее не должно быть ни начала, ни конца: она просто есть, и все! Остается ли тогда место для Создателя?',\n",
       "  'chapter': '8. Рождение и гибель Вселенной\\n',\n",
       "  'type': 'semantic'},\n",
       " {'text': 'Однажды Эйнштейн задал вопрос: «Какой выбор был у Бога, когда он создавал Вселенную?» Если верно предположение об отсутствии границ, то у Бога вообще не было никакой свободы выбора начальных условий. Разумеется, у него еще оставалась свобода выбора законов, которым подчиняется Вселенная. Но их на самом деле не так уж много; существует, возможно, всего одна или несколько полных единых теорий, например, теория гетеротической струны, которые были бы непротиворечивы и допускали существование таких сложных структур, как человеческие существа, способных исследовать законы Вселенной и задавать вопросы о сущности Бога.',\n",
       "  'chapter': '11. Заключение\\n',\n",
       "  'type': 'semantic'},\n",
       " {'text': 'Но это также книга о Боге… а может быть, об отсутствии Бога. Слово «Бог» часто появляется на ее страницах. Хокинг отправляется на поиски ответа на знаменитый вопрос Эйнштейна о том, был ли у Бога какой-нибудь выбор, когда он создавал Вселенную. Хокинг пытается, как он сам пишет, разгадать замысел Бога. Тем более неожиданным оказывается вывод (по меньшей мере временный), к которому приводят эти поиски: Вселенная без края в пространстве, без начала и конца во времени, без каких-либо дел для Создателя.',\n",
       "  'chapter': 'Предисловие\\n',\n",
       "  'type': 'semantic'},\n",
       " {'text': 'В пользу третьего варианта некоторые выдвигают тот довод, что существование полной системы законов ограничило бы свободу Бога, если бы он передумал и решил вмешаться в наш мир. Ситуация сродни старому доброму парадоксу: может ли Бог сотворить такой камень, который Он сам не смог бы поднять. Но мысль о том, что Бог может передумать, — это пример заблуждения, на которое указывал еще Блаженный Августин; оно возникает, если считать Бога существом, живущим во времени; время же — свойство только Вселенной, которая создана Богом. Запуская Вселенную, Бог, вероятно, знал что делает!',\n",
       "  'chapter': 'nan',\n",
       "  'type': 'fulltext'},\n",
       " {'text': 'В пользу третьего варианта некоторые выдвигают тот довод, что существование полной системы законов ограничило бы свободу Бога, если бы он передумал и решил вмешаться в наш мир. Ситуация сродни старому доброму парадоксу: может ли Бог сотворить такой камень, который Он сам не смог бы поднять. Но мысль о том, что Бог может передумать, — это пример заблуждения, на которое указывал еще Блаженный Августин; оно возникает, если считать Бога существом, живущим во времени; время же — свойство только Вселенной, которая создана Богом. Запуская Вселенную, Бог, вероятно, знал что делает!',\n",
       "  'chapter': '10. Объединение физики\\n',\n",
       "  'type': 'fulltext'}]"
      ]
     },
     "execution_count": 88,
     "metadata": {},
     "output_type": "execute_result"
    }
   ],
   "source": [
    "response.json()['contexts']"
   ]
  },
  {
   "cell_type": "code",
   "execution_count": 21,
   "id": "fae70be1-4bc9-4217-8506-d0bbd023044f",
   "metadata": {},
   "outputs": [
    {
     "name": "stdout",
     "output_type": "stream",
     "text": [
      "- Благодарности\n",
      "- Предисловие\n",
      "- 1. Наше представление о Вселенной\n",
      "- 2. Пространство и время\n",
      "- 3. Расширяющаяся Вселенная\n",
      "- 4. Принцип неопределенности\n",
      "- 5. Элементарные частицы и силы в природе\n",
      "- 6. Черные дыры\n",
      "- 7. Черные дыры не так уж черны\n",
      "- 8. Рождение и гибель Вселенной\n",
      "- 9. Стрела времени\n",
      "- 10. Объединение физики\n",
      "- 11. Заключение\n",
      "- Великие физики\n",
      "- Словарь терминов\n",
      "- Послесловие\n"
     ]
    }
   ],
   "source": [
    "for chapter in chapter_names:\n",
    "    print(f\"- {chapter}\") "
   ]
  },
  {
   "cell_type": "raw",
   "id": "5b7a11c3-7fd4-4b25-9ff4-140beb1a0ae6",
   "metadata": {},
   "source": [
    "from langchain_core.documents import Document\n",
    "\n",
    "documents = [Document(paragraph) for paragraph in paragraphs]\n",
    "len(documents)"
   ]
  },
  {
   "cell_type": "code",
   "execution_count": 7,
   "id": "09e19ea1-18d8-488e-9cb5-577ecf41b630",
   "metadata": {},
   "outputs": [
    {
     "data": {
      "text/plain": [
       "504"
      ]
     },
     "execution_count": 7,
     "metadata": {},
     "output_type": "execute_result"
    }
   ],
   "source": [
    "from langchain.text_splitter import RecursiveCharacterTextSplitter\n",
    "\n",
    "\n",
    "text_splitter = RecursiveCharacterTextSplitter(\n",
    "    chunk_size=2048,\n",
    "    chunk_overlap=256,\n",
    "    length_function=len,\n",
    "    is_separator_regex=False\n",
    ")\n",
    "\n",
    "chunks = text_splitter.split_documents(documents)\n",
    "len(chunks)"
   ]
  },
  {
   "cell_type": "code",
   "execution_count": 31,
   "id": "94c3c578-71d7-434c-b13b-020b327aa707",
   "metadata": {},
   "outputs": [
    {
     "data": {
      "text/plain": [
       "['ddsasdwkaddsasdwkaddsasdwkaddsasdwkaddsasdwkaddsasdwkaddsasdwkaddsasdwkaddsasdddsasdwkaddsasdwkaddsasdwkaddsasdwkaddsasdwkaddsasasdddsasdwkaddsasdwkaddsasdwkaddsasdwkaddsasdwkaddsasdwkaddsasdwkaddsasdwkaddsasdwkaddsasdwkaddsasdwkaddsasdwkaddsasdwkaddsasdwkaddsasdwkaddsasdwkaddsasdwkaddsasdwkaddsasdwkaddsasdwkaddsasdwkadasdddsasdwkaddsasdwkaddsasdwkaddsasdwkaddsasdwkaddsasdwkaddsasdwkaddsasdwkaddsasdwkaddsasdwkaddsasdwkaddsasdwkaddsasdwkaddsasdwkaddsasdwkaddsasdwkaddsasdwkaddsasdwkaddsasdwkaddsasdwkaddsasdwkadasdddsasdwkaddsasdwkaddsasdwkaddsasdwkaddsasdwkaddsasdwkaddsasdwkaddsasdwkaddsasdwkaddsasdwkaddsasdwkaddsasdwkaddsasdwkaddsasdwkaddsasdwkaddsasdwkaddsasdwkaddsasdwkaddsasdwkaddsasdwkaddsasdwkadasdddsasdwkaddsasdwkaddsasdwkaddsasdwkaddsasdwkaddsasdwkaddsasdwkaddsasdwkaddsasdwkaddsasdwkaddsasdwkaddsasdwkaddsasdwkaddsasdwkaddsasdwkaddsasdwkaddsasdwkaddsasdwkaddsasdwkaddsasdwkaddsasdwkadasdddsasdwkaddsasdwkaddsasdwkaddsasdwkaddsasdwkaddsasdwkaddsasdwkaddsasdwkaddsasdwkaddsasdwkaddsasdwkaddsasdwkaddsasdwkaddsasdwkaddsasdwkaddsasdwkaddsasdwkaddsasdwkaddsasdwkaddsasdwkaddsasdwkaddwkaddsasdwkaddsasdwkaddsasdwkaddsasdwkaddsasdwkaddsasdwkaddsasdwkaddsasdwkaddsasdwkaddsasdwkaddsasdwkaddsasdwkaddsasdwkaddsasdwkaddsasdwkaddsasdwkaddsasdwkaddsasdwkaddsasdwkaddsasdwkaddsasdwkaddsasdwkaddsasdwkaddsasdwkaddsasdwkaddsasdwkaddsasdwkaddsasdwkaddsasdwkaddsasdwkaddsasdwkaddsasdwkaddsasdwkaddsasdwkaddsasdwkaddsasdwkaddsasdwkaddsasdwkaddsasdwkaddsasdwkaddsasdwkaddsasdwkaddsasdwkaddsasdwka',\n",
       " 'wkaddsasdwkaddsasdwkaddsasdwkaddsasdwkaddsasdwkaddsasdwkaddsasdwkaddsasdwkaddsasdwkaddsasdwkaddsasdwkaddsasdwkaddsasdwkaddsasdwkaddsasdwkaddsasdwkaddsasdwkaddsasdwkaddsasdwkaddsasdwkaddsasdwkaddsasdwkaddsasdwkaddsasdwkaddsasdwkaddsasdwkaddsasdwkaddsasdwkaddsasdwkaddsasdwkaddsasdwkaddsasdwkaddsasdwkaddsasdwkaddsasdwkaddsasdwkaddsasdwkaddsasdwkaddsasdwkaddsasdwkaddsasdwkaddsasdwkaddsasdwkaddsasdwkaddsasdwkaddsasdwkaddsasdwkaddsasdwkaddsasdwkaddsasdwkaddsasdwkaddsasdwkaddsasdwkaddsasdwkaddsasdwkaddsasdwkaddsasdwkaddsasdwkaddsasdwkaddsasdwkaddsasdwkaddsasdwkaddsasdwkaddsasdwkaddsasdwkaddsasdwkaddsasdwkaddsasdwkaddsasdwkaddsasdwkaddsasdwkaddsasdwkaddsasdwkaddsasdwkaddsasdwkaddsasdwkaddsasdwkaddsasdwkaddsasdwkaddsasdwkaddsasdwkaddsasdwkaddsasdwkaddsasdwkaddsasdwkaddsasdwkaddsasdwkaddsasdwkaddsasdwkaddsasdwkaddsasdwkaddsasdwkaddsasdwkaddsasdwkaddsasdwkaddsasdwkaddsasdwkaddsasdwkaddsasdwkaddsasdwkaddsasdwkaddsasdwkaddsasdwkaddsasdwkaddsasdwkaddsasdwkaddsasdwkaddsasdwkaddsasdwkaddsasdwkaddsasdwkaddsasdwkaddsasdwkaddsasdwkaddsasdwkaddsasdwkaddsasdwkaddsasdwkaddsasdwkaddsasdwkaddsasdwka']"
      ]
     },
     "execution_count": 31,
     "metadata": {},
     "output_type": "execute_result"
    }
   ],
   "source": [
    "text_splitter.split_text('ddsasdwkaddsasdwkaddsasdwkaddsasdwkaddsasdwkaddsasdwkaddsasdwkaddsasdwkaddsasdddsasdwkaddsasdwkaddsasdwkaddsasdwkaddsasdwkaddsasasdddsasdwkaddsasdwkaddsasdwkaddsasdwkaddsasdwkaddsasdwkaddsasdwkaddsasdwkaddsasdwkaddsasdwkaddsasdwkaddsasdwkaddsasdwkaddsasdwkaddsasdwkaddsasdwkaddsasdwkaddsasdwkaddsasdwkaddsasdwkaddsasdwkadasdddsasdwkaddsasdwkaddsasdwkaddsasdwkaddsasdwkaddsasdwkaddsasdwkaddsasdwkaddsasdwkaddsasdwkaddsasdwkaddsasdwkaddsasdwkaddsasdwkaddsasdwkaddsasdwkaddsasdwkaddsasdwkaddsasdwkaddsasdwkaddsasdwkadasdddsasdwkaddsasdwkaddsasdwkaddsasdwkaddsasdwkaddsasdwkaddsasdwkaddsasdwkaddsasdwkaddsasdwkaddsasdwkaddsasdwkaddsasdwkaddsasdwkaddsasdwkaddsasdwkaddsasdwkaddsasdwkaddsasdwkaddsasdwkaddsasdwkadasdddsasdwkaddsasdwkaddsasdwkaddsasdwkaddsasdwkaddsasdwkaddsasdwkaddsasdwkaddsasdwkaddsasdwkaddsasdwkaddsasdwkaddsasdwkaddsasdwkaddsasdwkaddsasdwkaddsasdwkaddsasdwkaddsasdwkaddsasdwkaddsasdwkadasdddsasdwkaddsasdwkaddsasdwkaddsasdwkaddsasdwkaddsasdwkaddsasdwkaddsasdwkaddsasdwkaddsasdwkaddsasdwkaddsasdwkaddsasdwkaddsasdwkaddsasdwkaddsasdwkaddsasdwkaddsasdwkaddsasdwkaddsasdwkaddsasdwkaddwkaddsasdwkaddsasdwkaddsasdwkaddsasdwkaddsasdwkaddsasdwkaddsasdwkaddsasdwkaddsasdwkaddsasdwkaddsasdwkaddsasdwkaddsasdwkaddsasdwkaddsasdwkaddsasdwkaddsasdwkaddsasdwkaddsasdwkaddsasdwkaddsasdwkaddsasdwkaddsasdwkaddsasdwkaddsasdwkaddsasdwkaddsasdwkaddsasdwkaddsasdwkaddsasdwkaddsasdwkaddsasdwkaddsasdwkaddsasdwkaddsasdwkaddsasdwkaddsasdwkaddsasdwkaddsasdwkaddsasdwkaddsasdwkaddsasdwkaddsasdwkaddsasdwka wkaddsasdwkaddsasdwkaddsasdwkaddsasdwkaddsasdwkaddsasdwkaddsasdwkaddsasdwkaddsasdwkaddsasdwkaddsasdwkaddsasdwkaddsasdwkaddsasdwkaddsasdwkaddsasdwkaddsasdwkaddsasdwkaddsasdwkaddsasdwkaddsasdwkaddsasdwkaddsasdwkaddsasdwkaddsasdwkaddsasdwkaddsasdwkaddsasdwkaddsasdwkaddsasdwkaddsasdwkaddsasdwkaddsasdwkaddsasdwkaddsasdwkaddsasdwkaddsasdwkaddsasdwkaddsasdwkaddsasdwkaddsasdwkaddsasdwkaddsasdwkaddsasdwkaddsasdwkaddsasdwkaddsasdwkaddsasdwkaddsasdwkaddsasdwkaddsasdwkaddsasdwkaddsasdwkaddsasdwkaddsasdwkaddsasdwkaddsasdwkaddsasdwkaddsasdwkaddsasdwkaddsasdwkaddsasdwkaddsasdwkaddsasdwkaddsasdwkaddsasdwkaddsasdwkaddsasdwkaddsasdwkaddsasdwkaddsasdwkaddsasdwkaddsasdwkaddsasdwkaddsasdwkaddsasdwkaddsasdwkaddsasdwkaddsasdwkaddsasdwkaddsasdwkaddsasdwkaddsasdwkaddsasdwkaddsasdwkaddsasdwkaddsasdwkaddsasdwkaddsasdwkaddsasdwkaddsasdwkaddsasdwkaddsasdwkaddsasdwkaddsasdwkaddsasdwkaddsasdwkaddsasdwkaddsasdwkaddsasdwkaddsasdwkaddsasdwkaddsasdwkaddsasdwkaddsasdwkaddsasdwkaddsasdwkaddsasdwkaddsasdwkaddsasdwkaddsasdwkaddsasdwkaddsasdwkaddsasdwkaddsasdwkaddsasdwkaddsasdwkaddsasdwkaddsasdwkaddsasdwkaddsasdwka')"
   ]
  },
  {
   "cell_type": "code",
   "execution_count": 8,
   "id": "15cd10db-a4fa-4a64-a354-541f5acbe1fc",
   "metadata": {},
   "outputs": [
    {
     "data": {
      "text/plain": [
       "[Document(page_content='Благодарности'),\n",
       " Document(page_content='Книга посвящается Джейн'),\n",
       " Document(page_content='Я решил попробовать написать популярную книгу о пространстве и времени после того, как прочитал в 1982 г. курс Лёбовских лекций в Гарварде. Тогда уже было немало книг, посвященных ранней Вселенной и черным дырам, как очень хороших, например книга Стивена Вайнберга «Первые три минуты», так и очень плохих, которые здесь незачем называть. Но мне казалось, что ни в одной из них фактически не затрагиваются те вопросы, которые побудили меня заняться изучением космологии и квантовой теории: откуда взялась Вселенная? как и почему она возникла? придет ли ей конец, а если придет, то как? Эти вопросы интересуют всех нас. Но современная наука очень насыщена математикой, и лишь немногочисленные специалисты достаточно владеют последней, чтобы разобраться в этом. Однако основные представления о рождении и дальнейшей судьбе Вселенной можно изложить и без помощи математики так, что они станут понятны даже людям, не получившим научного образования. Это я и пытался сделать в моей книге. Читателю судить о том, насколько я преуспел.'),\n",
       " Document(page_content='Мне сказали, что каждая включенная в книгу формула вдвое уменьшит число покупателей. Тогда я решил вообще обходиться без формул. Правда, в конце я все-таки написал одно уравнение — знаменитое уравнение Эйнштейна Е=mc^2. Надеюсь, оно не отпугнет половину моих потенциальных читателей.'),\n",
       " Document(page_content='Если не считать того, что я заболел боковым амиотрофическим склерозом, то почти во всем остальном мне сопутствовала удача. Помощь и поддержка, которые мне оказывали моя жена Джейн и дети Роберт, Люси и Тимоти, обеспечили мне возможность вести довольно-таки нормальный образ жизни и добиться успехов в работе. Мне повезло и в том, что я выбрал теоретическую физику, ибо она вся вмещается в голове. Поэтому моя физическая немощь не стала серьезным минусом. Мои научные коллеги, все без исключения, оказывали мне всегда максимальное содействие.'),\n",
       " Document(page_content='На первом, «классическом» этапе моей работы моими ближайшими помощниками и сотрудниками были Роджер Пенроуз, Роберт Герок, Брендон Картер и Джордж Эллис. Я благодарен им за помощь и за совместную работу. Этот этап завершился изданием книги «Крупномасштабная структура пространства-времени», которую мы с Эллисом написали в 1973 г. (Хокинг С., Эллис Дж. Крупномасштабная структура пpoстранства-времени. M.: Мир, 1976).'),\n",
       " Document(page_content='Я бы не советовал читающим следующие далее страницы обращаться к ней за дополнительной информацией: она перегружена математикой и тяжела для чтения. Надеюсь, что с тех пор я научился писать более доступно.'),\n",
       " Document(page_content='На втором, «квантовом» этапе моей работы, начавшемся в 1974 г., я в основном работал с Гари Гиббонсом, Доном Пэйджем и Джимом Хартлом. Я очень многим им обязан, как и своим аспирантам, которые оказывали мне огромную помощь и в «физическом», и в «теоретическом» смысле этого слова. Необходимость не отставать от аспирантов была чрезвычайно важным стимулом и, как мне кажется, не позволяла мне застрять в болоте.'),\n",
       " Document(page_content='В работе над книгой мне очень много помогал Брайен Уитт, один из моих студентов. В 1985 г., набросав первый, примерный план книги, я заболел воспалением легких. Пришлось лечь на операцию, и после трахеотомии я перестал говорить, а тем самым почти лишился возможности общаться. Я думал, что не смогу закончить книгу. Но Брайен нс только помог мне ее переработать, но и научил пользоваться компьютерной программой общения Living Center, которую мне подарил Уолт Уолтош, сотрудник фирмы Words Plus, Inc., Саннивейл (шт. Калифорния). С ее помощью я могу писать книги и статьи, а также разговаривать с людьми посредством синтезатора речи, подаренного мне другой саннивейлской фирмой Speech Plus. Дэвид Мэйсон установил на моем кресле-коляске этот синтезатор и небольшой персональный компьютер. Такая система все изменила: мне стало даже легче общаться, чем до того как я потерял голос.'),\n",
       " Document(page_content='Многим из тех, кто ознакомился с предварительными вариантами книги, я благодарен за советы, касающиеся того, как ее можно было бы улучшить. Так, Петер Газзарди, мой редактор издательства Bantam Books, слал мне письмо за письмом с замечаниями и вопросами по тем местам, которые, по его мнению, были плохо объяснены. Признаться, я был сильно раздражен, получив огромный список рекомендуемых исправлений, но Газзарди оказался совершенно прав. Я уверен, книга стала лучше благодаря тому, что Газзарди тыкал меня носом в ошибки.'),\n",
       " Document(page_content='Я выражаю глубокую благодарность моим помощникам Колину Уилльямсу, Дэвиду Томасу и Рэймонду Лэфлемму, моим секретарям Джуди Фелле, Энн Ральф, Шерил Биллингтон и Сью Мэйси и моим медсестрам. Я бы ничего не смог достичь, если бы все расходы на научные исследования и необходимую медицинскую помощь не взяли на себя Гонвилл-энд-Кайюс-колледж, Совет по научным и техническим исследованиям и фонды Леверхулма, Мак-Артура, Нуффилда и Ральфа Смита. Всем им я очень благодарен.'),\n",
       " Document(page_content='Стивен Хокинг. 20 октября 1987 г.'),\n",
       " Document(page_content='Предисловие'),\n",
       " Document(page_content='Мы живем, почти ничего не понимая в устройстве мира. Не задумываемся над тем, какой механизм порождает солнечный свет, который обеспечивает наше существование, не думаем о гравитации, которая удерживает нас на Земле, не давая ей сбросить нас в пространство. Нас не интересуют атомы, из которых мы состоим и от устойчивости которых мы сами существенным образом зависим. За исключением детей (которые еще слишком мало знают, чтобы не задавать такие серьезные вопросы), мало кто ломает голову над тем, почему природа такова, какова она есть, откуда появился космос и не существовал ли он всегда? не может ли время однажды повернуть вспять, так что следствие будет предшествовать причине? есть ли непреодолимый предел человеческого познания? Бывают даже такие дети (я их встречал), которым хочется знать, как выглядит черная дыра, какова самая маленькая частичка вещества? почему мы помним прошлое и не помним будущее? если раньше и правда был хаос, то как получилось, что теперь установился видимый порядок? и почему Вселенная вообще существует?'),\n",
       " Document(page_content='В нашем обществе принято, что родители и учителя в ответ на эти вопросы большей частью пожимают плечами или призывают на помощь смутно сохранившиеся в памяти ссылки на религиозные легенды. Некоторым не нравятся такие темы, потому что в них живо обнаруживается узость человеческого понимания.'),\n",
       " Document(page_content='Но развитие философии и естественных наук продвигалось вперед в основном благодаря подобным вопросам. Все больше взрослых людей проявляют к ним интерес, и ответы иногда бывают совершенно неожиданными для них. Отличаясь по масштабам как от атомов, так и от звезд, мы раздвигаем горизонты исследований, чтобы охватить как очень маленькие, так и очень большие объекты.'),\n",
       " Document(page_content='Весной 1974 г., примерно за два года до того, как космический аппарат «Викинг» достиг поверхности Марса, я был в Англии на конференции, организованной Лондонским королевским обществом и посвященной возможностям поиска внеземных цивилизаций. Во время перерыва на кофе я обратил внимание на гораздо более многолюдное собрание, проходившее в соседнем зале, и из любопытства вошел туда. Так я стал свидетелем давнего ритуала — приема новых членов в Королевское общество, которое является одним из старейших на планете объединений ученых. Впереди молодой человек, сидевший в инвалидном кресле, очень медленно выводил свое имя в книге, предыдущие страницы которой хранили подпись Исаака Ньютона. Когда он, наконец, кончил расписываться, зал разразился овацией. Стивен Хокинг уже тогда был легендой.'),\n",
       " Document(page_content='Сейчас Хокинг в Кембриджском университете занимает кафедру математики, которую когда-то занимал Ньютон, а позже П. А. М. Дирак — два знаменитых исследователя, изучавшие один — самое большое, а другой — самое маленькое. Хокинг — их достойный преемник. Эта первая популярная книга Хокипга содержит массу полезных вещей для широкой аудитории. Книга интересна не только широтой своего содержания, она позволяет увидеть, как работает мысль ее автора. Вы найдете в ней ясные откровения о границах физики, астрономии, космологии и мужества.'),\n",
       " Document(page_content='Но это также книга о Боге… а может быть, об отсутствии Бога. Слово «Бог» часто появляется на ее страницах. Хокинг отправляется на поиски ответа на знаменитый вопрос Эйнштейна о том, был ли у Бога какой-нибудь выбор, когда он создавал Вселенную. Хокинг пытается, как он сам пишет, разгадать замысел Бога. Тем более неожиданным оказывается вывод (по меньшей мере временный), к которому приводят эти поиски: Вселенная без края в пространстве, без начала и конца во времени, без каких-либо дел для Создателя.'),\n",
       " Document(page_content='Карл Саган, Корнеллский университет, Итака, шт. Нью-Йорк.')]"
      ]
     },
     "execution_count": 8,
     "metadata": {},
     "output_type": "execute_result"
    }
   ],
   "source": [
    "chunks[:20]"
   ]
  },
  {
   "cell_type": "code",
   "execution_count": 56,
   "id": "bbc93d57-7170-4016-8fa9-03e68fb0f5f7",
   "metadata": {},
   "outputs": [],
   "source": [
    "from elasticsearch import Elasticsearch\n",
    "from elasticsearch.helpers import scan\n",
    "\n",
    "\n",
    "es_client = Elasticsearch(([{\"host\": \"localhost\", \"port\": \"9200\"}]))"
   ]
  },
  {
   "cell_type": "code",
   "execution_count": 108,
   "id": "703e35e6-49a5-4945-8b0c-c9999e89f0ad",
   "metadata": {},
   "outputs": [],
   "source": [
    "res = list(scan(client=es_client, query={\"query\": {\"match_all\": {}}},\n",
    "        scroll=\"25m\", index='chunks', raise_on_error=False,\n",
    "        preserve_order=False, clear_scroll=True))"
   ]
  },
  {
   "cell_type": "code",
   "execution_count": 109,
   "id": "f500512a-954e-46c0-b38f-b83eb6c7e236",
   "metadata": {},
   "outputs": [
    {
     "data": {
      "text/plain": [
       "111"
      ]
     },
     "execution_count": 109,
     "metadata": {},
     "output_type": "execute_result"
    }
   ],
   "source": [
    "len(res)"
   ]
  },
  {
   "cell_type": "code",
   "execution_count": 110,
   "id": "d26b12ca-b798-4983-8257-1ba46e17db6e",
   "metadata": {},
   "outputs": [],
   "source": [
    "from pprint import pprint\n",
    "\n",
    "for val in res:\n",
    "    if val['_source']['text'] == 'Благодарности':\n",
    "        print(val)"
   ]
  },
  {
   "cell_type": "code",
   "execution_count": 111,
   "id": "2ff494c1-acd2-4ef9-a05d-981faa51b5ed",
   "metadata": {},
   "outputs": [
    {
     "data": {
      "text/plain": [
       "{'text': 'Потом я несколько лет разрабатывал новый математический аппарат, который позволил бы устранить это и другие технические условия из теоремы о необходимости сингулярности. В итоге в 1970 г. мы с Пенроузом написали совместную статью, в которой наконец доказали, что сингулярная точка большого взрыва должна существовать, опираясь только на то, что верна общая теория относительности и что во Вселенной содержится столько вещества, сколько мы видим. Наша работа вызвала массу возражений, частично со стороны советских ученых, которые из-за приверженности марксистской философии верили в научный детерминизм, а частично и со стороны тех, кто не принимал саму идею сингулярностей как нарушающую красоту теории Эйнштейна. Но с математической теоремой не очень поспоришь, и поэтому, когда работа была закончена, ее приняли, и сейчас почти все считают, что Вселенная возникла в особой точке большого взрыва. По иронии судьбы мои представления изменились, и теперь я пытаюсь убедить физиков в том, что на самом деле при зарождении Вселенной никакой особой точки не было. В следующих главах я покажу, что при учете квантовых эффектов сингулярность может исчезнуть.',\n",
       " 'chapter': '3. Расширяющаяся Вселенная\\n'}"
      ]
     },
     "execution_count": 111,
     "metadata": {},
     "output_type": "execute_result"
    }
   ],
   "source": [
    "val['_source']"
   ]
  },
  {
   "cell_type": "code",
   "execution_count": null,
   "id": "a3455f02-677a-439f-97ea-7f03a3caa63a",
   "metadata": {},
   "outputs": [],
   "source": []
  },
  {
   "cell_type": "code",
   "execution_count": null,
   "id": "deb8e73b-da59-430f-9eda-af285347b240",
   "metadata": {},
   "outputs": [],
   "source": []
  }
 ],
 "metadata": {
  "kernelspec": {
   "display_name": "Python 3 (ipykernel)",
   "language": "python",
   "name": "python3"
  },
  "language_info": {
   "codemirror_mode": {
    "name": "ipython",
    "version": 3
   },
   "file_extension": ".py",
   "mimetype": "text/x-python",
   "name": "python",
   "nbconvert_exporter": "python",
   "pygments_lexer": "ipython3",
   "version": "3.10.13"
  }
 },
 "nbformat": 4,
 "nbformat_minor": 5
}
